{
 "cells": [
  {
   "cell_type": "code",
   "execution_count": 300,
   "metadata": {},
   "outputs": [],
   "source": [
    "import numpy as np\n",
    "import random as rd\n",
    "\n",
    "def binary_path(up, down, p, n, px, time):\n",
    "    dt = time / n\n",
    "    path = []\n",
    "    curr = px\n",
    "    for multi in rd.choices([up, down], weights= [p, 1-p], k= n):\n",
    "        curr *= multi\n",
    "        path.append(curr)\n",
    "    return path\n",
    "\n",
    "def call_premium(up, down, p, n, px, stk, rate, m, time):\n",
    "    dt = time / n\n",
    "    finals = [binary_path(up, down, p, n, px, time )[-1] for i in range(m)]\n",
    "    return np.mean([max(0,f-stk)*np.exp(-rate*dt) for f in finals])\n",
    "\n",
    "def rsk_ntrl_prob(up, down, px, stk, rate, time):\n",
    "    return (np.exp(rate * time)-down) / (up - down)\n",
    "\n",
    "def put_premium(up, down, p, n, px, stk, rate, m, time):\n",
    "    call = call_premium(up, down, p, n, px, stk, rate, m, time)\n",
    "    return call -px + stk*np.exp(-rate*time)\n",
    "\n",
    "    \n"
   ]
  },
  {
   "cell_type": "code",
   "execution_count": 359,
   "metadata": {},
   "outputs": [
    {
     "data": {
      "text/plain": [
       "28.847829534361423"
      ]
     },
     "execution_count": 359,
     "metadata": {},
     "output_type": "execute_result"
    }
   ],
   "source": [
    "call_premium(1.02,0.98,0.504,255, 190, 190, 0.055/365, 10000, 1)"
   ]
  },
  {
   "cell_type": "code",
   "execution_count": 345,
   "metadata": {},
   "outputs": [
    {
     "data": {
      "text/plain": [
       "18.848425488958583"
      ]
     },
     "execution_count": 345,
     "metadata": {},
     "output_type": "execute_result"
    }
   ],
   "source": [
    "put_premium(1.011,0.989,0.508,255, 190, 190, 0.055/365, 10000, 1)"
   ]
  },
  {
   "cell_type": "code",
   "execution_count": 352,
   "metadata": {},
   "outputs": [
    {
     "data": {
      "text/plain": [
       "0.5037674071262872"
      ]
     },
     "execution_count": 352,
     "metadata": {},
     "output_type": "execute_result"
    }
   ],
   "source": [
    "\n",
    "rsk_ntrl_prob(1.02,0.98, 190, 190, 0.055/365, 1)"
   ]
  }
 ],
 "metadata": {
  "kernelspec": {
   "display_name": "Python 3.9.12 ('base')",
   "language": "python",
   "name": "python3"
  },
  "language_info": {
   "codemirror_mode": {
    "name": "ipython",
    "version": 3
   },
   "file_extension": ".py",
   "mimetype": "text/x-python",
   "name": "python",
   "nbconvert_exporter": "python",
   "pygments_lexer": "ipython3",
   "version": "3.9.12"
  },
  "orig_nbformat": 4,
  "vscode": {
   "interpreter": {
    "hash": "1e8cd4f1ac568d98a26337dc29a242b51117562974e56d6df0b7d80d49f54895"
   }
  }
 },
 "nbformat": 4,
 "nbformat_minor": 2
}
